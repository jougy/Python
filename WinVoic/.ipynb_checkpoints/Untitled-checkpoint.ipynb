{
 "cells": [
  {
   "cell_type": "code",
   "execution_count": 1,
   "id": "3e93e663",
   "metadata": {},
   "outputs": [],
   "source": [
    "import speech_recognition as sr\n",
    "import pyautogui as pa\n",
    "from pyautogui import click,moveTo,write,hotkey,press,hold,size,position\n",
    "import pyperclip\n",
    "\n",
    "pa.PAUSE = 1\n",
    "from time import sleep"
   ]
  },
  {
   "cell_type": "code",
   "execution_count": 2,
   "id": "5a60d320",
   "metadata": {},
   "outputs": [],
   "source": [
    "rec = sr.Recognizer()\n"
   ]
  },
  {
   "cell_type": "code",
   "execution_count": 3,
   "id": "065e8755",
   "metadata": {},
   "outputs": [
    {
     "name": "stdout",
     "output_type": "stream",
     "text": [
      "['Mapeador de som da Microsoft - Input', 'Microfone (HyperX Cloud Alpha S', 'Microphone (High Definition Aud', 'Mapeador de som da Microsoft - Output', 'FxSound Speakers (FxSound Audio', 'Digital Audio (S/PDIF) (High De', 'Headset Earphone (HyperX Cloud ', 'BM278GW (NVIDIA High Definition', 'SAMSUNG (NVIDIA High Definition', 'Alto-falantes (HyperX Cloud Alp', 'Driver de captura de som primÃ¡rio', 'Microfone (HyperX Cloud Alpha S Chat)', 'Microphone (High Definition Audio Device)', 'Driver de som primÃ¡rio', 'FxSound Speakers (FxSound Audio Enhancer)', 'Digital Audio (S/PDIF) (High Definition Audio Device)', 'Headset Earphone (HyperX Cloud Alpha S Chat)', 'BM278GW (NVIDIA High Definition Audio)', 'SAMSUNG (NVIDIA High Definition Audio)', 'Alto-falantes (HyperX Cloud Alpha S Game)', 'Digital Audio (S/PDIF) (High Definition Audio Device)', 'FxSound Speakers (FxSound Audio Enhancer)', 'Headset Earphone (HyperX Cloud Alpha S Chat)', 'BM278GW (NVIDIA High Definition Audio)', 'SAMSUNG (NVIDIA High Definition Audio)', 'Alto-falantes (HyperX Cloud Alpha S Game)', 'Microphone (High Definition Audio Device)', 'Microfone (HyperX Cloud Alpha S Chat)', 'Microfone (HD Audio Microphone)', 'SPDIF Out (HD Audio SPDIF out)', 'Output (NVIDIA High Definition Audio)', 'Output ()', 'HyperX Cloud Alpha S Game (HyperX Cloud Alpha S Game)', 'Microfone (HyperX Cloud Alpha S Chat)', 'Headset Earphone (HyperX Cloud Alpha S Chat)', 'Input ()', 'Speakers ()']\n",
      "Pode Falar...\n",
      "Open Brave\n",
      "Pode Falar...\n",
      "right youtube.com\n",
      "Pode Falar...\n",
      "play\n",
      "Pode Falar...\n"
     ]
    },
    {
     "ename": "UnknownValueError",
     "evalue": "",
     "output_type": "error",
     "traceback": [
      "\u001b[1;31m---------------------------------------------------------------------------\u001b[0m",
      "\u001b[1;31mUnknownValueError\u001b[0m                         Traceback (most recent call last)",
      "Input \u001b[1;32mIn [3]\u001b[0m, in \u001b[0;36m<cell line: 5>\u001b[1;34m()\u001b[0m\n\u001b[0;32m      8\u001b[0m \u001b[38;5;28mprint\u001b[39m(\u001b[38;5;124m\"\u001b[39m\u001b[38;5;124mPode Falar...\u001b[39m\u001b[38;5;124m\"\u001b[39m)\n\u001b[0;32m      9\u001b[0m audio \u001b[38;5;241m=\u001b[39m rec\u001b[38;5;241m.\u001b[39mlisten(mic)\n\u001b[1;32m---> 10\u001b[0m texto \u001b[38;5;241m=\u001b[39m \u001b[43mrec\u001b[49m\u001b[38;5;241;43m.\u001b[39;49m\u001b[43mrecognize_google\u001b[49m\u001b[43m(\u001b[49m\u001b[43maudio\u001b[49m\u001b[43m)\u001b[49m\n\u001b[0;32m     11\u001b[0m \u001b[38;5;28mprint\u001b[39m(texto)\n\u001b[0;32m     12\u001b[0m txtstr \u001b[38;5;241m=\u001b[39m \u001b[38;5;28mstr\u001b[39m(texto)\n",
      "File \u001b[1;32m~\\anaconda3\\lib\\site-packages\\speech_recognition\\__init__.py:858\u001b[0m, in \u001b[0;36mRecognizer.recognize_google\u001b[1;34m(self, audio_data, key, language, show_all)\u001b[0m\n\u001b[0;32m    856\u001b[0m \u001b[38;5;66;03m# return results\u001b[39;00m\n\u001b[0;32m    857\u001b[0m \u001b[38;5;28;01mif\u001b[39;00m show_all: \u001b[38;5;28;01mreturn\u001b[39;00m actual_result\n\u001b[1;32m--> 858\u001b[0m \u001b[38;5;28;01mif\u001b[39;00m \u001b[38;5;129;01mnot\u001b[39;00m \u001b[38;5;28misinstance\u001b[39m(actual_result, \u001b[38;5;28mdict\u001b[39m) \u001b[38;5;129;01mor\u001b[39;00m \u001b[38;5;28mlen\u001b[39m(actual_result\u001b[38;5;241m.\u001b[39mget(\u001b[38;5;124m\"\u001b[39m\u001b[38;5;124malternative\u001b[39m\u001b[38;5;124m\"\u001b[39m, [])) \u001b[38;5;241m==\u001b[39m \u001b[38;5;241m0\u001b[39m: \u001b[38;5;28;01mraise\u001b[39;00m UnknownValueError()\n\u001b[0;32m    860\u001b[0m \u001b[38;5;28;01mif\u001b[39;00m \u001b[38;5;124m\"\u001b[39m\u001b[38;5;124mconfidence\u001b[39m\u001b[38;5;124m\"\u001b[39m \u001b[38;5;129;01min\u001b[39;00m actual_result[\u001b[38;5;124m\"\u001b[39m\u001b[38;5;124malternative\u001b[39m\u001b[38;5;124m\"\u001b[39m]:\n\u001b[0;32m    861\u001b[0m     \u001b[38;5;66;03m# return alternative with highest confidence score\u001b[39;00m\n\u001b[0;32m    862\u001b[0m     best_hypothesis \u001b[38;5;241m=\u001b[39m \u001b[38;5;28mmax\u001b[39m(actual_result[\u001b[38;5;124m\"\u001b[39m\u001b[38;5;124malternative\u001b[39m\u001b[38;5;124m\"\u001b[39m], key\u001b[38;5;241m=\u001b[39m\u001b[38;5;28;01mlambda\u001b[39;00m alternative: alternative[\u001b[38;5;124m\"\u001b[39m\u001b[38;5;124mconfidence\u001b[39m\u001b[38;5;124m\"\u001b[39m])\n",
      "\u001b[1;31mUnknownValueError\u001b[0m: "
     ]
    }
   ],
   "source": [
    "print(sr.Microphone().list_microphone_names())\n",
    "\n",
    "b = True \n",
    "\n",
    "while b:\n",
    "    with sr.Microphone(1) as mic:\n",
    "        rec.adjust_for_ambient_noise(mic)\n",
    "        print(\"Pode Falar...\")\n",
    "        audio = rec.listen(mic)\n",
    "        texto = rec.recognize_google(audio)\n",
    "        print(texto)\n",
    "        txtstr = str(texto)\n",
    "        listtxt= list(txtstr.split())\n",
    "        if listtxt[0] == \"Open\":\n",
    "            hotkey(\"win\",'s')\n",
    "            write(listtxt[1])\n",
    "            press(\"enter\")\n",
    "        if listtxt[0] == \"play\":\n",
    "            press('space')\n",
    "        if listtxt[0] == \"exit\":\n",
    "            b = False\n",
    "        if listtxt[0] == \"right\":\n",
    "            write(listtxt[1])\n",
    "            press('enter')\n"
   ]
  },
  {
   "cell_type": "code",
   "execution_count": null,
   "id": "3bca3bd0",
   "metadata": {},
   "outputs": [],
   "source": []
  },
  {
   "cell_type": "code",
   "execution_count": null,
   "id": "a82a3473",
   "metadata": {},
   "outputs": [],
   "source": []
  },
  {
   "cell_type": "code",
   "execution_count": null,
   "id": "528a79f1",
   "metadata": {},
   "outputs": [],
   "source": []
  },
  {
   "cell_type": "code",
   "execution_count": null,
   "id": "e4bbb337",
   "metadata": {},
   "outputs": [],
   "source": []
  }
 ],
 "metadata": {
  "kernelspec": {
   "display_name": "Python 3 (ipykernel)",
   "language": "python",
   "name": "python3"
  },
  "language_info": {
   "codemirror_mode": {
    "name": "ipython",
    "version": 3
   },
   "file_extension": ".py",
   "mimetype": "text/x-python",
   "name": "python",
   "nbconvert_exporter": "python",
   "pygments_lexer": "ipython3",
   "version": "3.9.12"
  }
 },
 "nbformat": 4,
 "nbformat_minor": 5
}
