{
 "cells": [
  {
   "cell_type": "markdown",
   "metadata": {},
   "source": [
    "# Automação Web e Busca de Informações com Python\n",
    "\n",
    "#### Desafio: \n",
    "\n",
    "Trabalhamos em uma importadora e o preço dos nossos produtos é vinculado a cotação de:\n",
    "- Dólar\n",
    "- Euro\n",
    "- Ouro\n",
    "\n",
    "Precisamos pegar na internet, de forma automática, a cotação desses 3 itens e saber quanto devemos cobrar pelos nossos produtos, considerando uma margem de contribuição que temos na nossa base de dados.\n",
    "\n",
    "Base de Dados: https://drive.google.com/drive/folders/1KmAdo593nD8J9QBaZxPOG1yxHZua4Rtv?usp=sharing\n",
    "\n",
    "Para isso, vamos criar uma automação web:\n",
    "\n",
    "- Usaremos o selenium\n",
    "- Importante: baixar o webdriver"
   ]
  },
  {
   "cell_type": "code",
   "execution_count": 1,
   "metadata": {},
   "outputs": [],
   "source": [
    "from selenium import webdriver\n",
    "from selenium.webdriver.common.keys import Keys\n",
    "import pandas as pd"
   ]
  },
  {
   "cell_type": "code",
   "execution_count": 2,
   "metadata": {},
   "outputs": [],
   "source": [
    "nav = webdriver.Chrome()"
   ]
  },
  {
   "cell_type": "code",
   "execution_count": 3,
   "metadata": {},
   "outputs": [],
   "source": [
    "def n2brlg (url):\n",
    "    nav.get(url)\n",
    "    n = nav.find_element('xpath','//*[@id=\"knowledge-currency__updatable-data-column\"]/div[1]/div[2]/span[1]').get_attribute('data-value')\n",
    "    return n"
   ]
  },
  {
   "cell_type": "code",
   "execution_count": 4,
   "metadata": {},
   "outputs": [],
   "source": [
    "#get values\n",
    "#usd\n",
    "usd = n2brlg(\"https://www.google.com/search?q=usd+brl&sxsrf=AJOqlzXicZ9jR5A-XqQ3Ck0CbM2XzWk1pA%3A1673627713265&source=hp&ei=QYjBY5XnDfXW5OUPi8GS-Ak&iflsig=AK50M_UAAAAAY8GWUUyV-fyoSZbVGSy350yFBCPjiZS_&ved=0ahUKEwjVi9WK_cT8AhV1K7kGHYugBJ8Q4dUDCAk&uact=5&oq=usd+brl&gs_lcp=Cgdnd3Mtd2l6EAMyCQgjECcQRhCCAjIFCAAQgAQyBQgAEIAEMgUIABCABDIFCAAQgAQyBQgAEIAEMgUIABCABDIFCAAQgAQyBQgAEIAEMgUIABCABDoECCMQJzoRCC4QgAQQsQMQgwEQxwEQ0QM6DgguEIAEELEDEMcBENEDOgsILhCABBCxAxCDAToLCAAQgAQQsQMQgwE6CAguEIAEELEDOggIABCABBCxAzoICAAQsQMQgwE6CggAEIAEELEDEA06DQgAEIAEELEDEIMBEA06CggAELEDEIMBEAo6BwgAEIAEEA06CAgAEIAEEMsBOgcIABCABBAKUABYmwpgxw1oAHAAeACAAYABiAH2BZIBAzEuNpgBAKABAQ&sclient=gws-wiz\")\n",
    "#eur\n",
    "eur = n2brlg(\"https://www.google.com/search?q=eur+brl&ei=vYvBY67JEPOf5OUP18mQiAE&ved=0ahUKEwjum4O0gMX8AhXzD7kGHdckBBEQ4dUDCBA&uact=5&oq=eur+brl&gs_lcp=Cgxnd3Mtd2l6LXNlcnAQAzIPCAAQsQMQgwEQQxBGEIICMgQIABBDMgcIABCABBAKMgcIABCABBAKMgcIABCABBAKMgcIABCABBAKMgcIABCABBAKMgcIABCABBAKMgYIABAHEB4yBwgAEIAEEAo6CggAEEcQ1gQQsAM6BwgAELADEEM6CggAELEDEIMBEEM6CQgAEIAEEA0QCjoMCAAQgAQQDRBGEIICOgcIABCABBANOggIABCABBCxAzoLCC4QgAQQxwEQrwE6CwgAEIAEELEDEIMBSgQIQRgASgQIRhgAUK8LWMsYYOoZaAFwAXgAgAGzAYgB9waSAQMwLjaYAQCgAQHIAQrAAQE&sclient=gws-wiz-serp\")\n",
    "#gold\n",
    "nav.get(\"https://www.melhorcambio.com/ouro-hoje\")\n",
    "gold = nav.find_element('xpath', '//*[@id=\"comercial\"]').get_attribute('value')\n",
    "gold = gold.replace(\",\",\".\")\n",
    "nav.quit()"
   ]
  },
  {
   "cell_type": "code",
   "execution_count": 5,
   "metadata": {},
   "outputs": [
    {
     "name": "stdout",
     "output_type": "stream",
     "text": [
      "usd:  5.0847 \n",
      "eur:  5.503933515 \n",
      "gold:  313.67\n"
     ]
    }
   ],
   "source": [
    "print('usd: ',usd,'\\neur: ',eur,'\\ngold: ',gold)"
   ]
  },
  {
   "cell_type": "markdown",
   "metadata": {},
   "source": [
    "### Agora vamos atualiza a nossa base de preços com as novas cotações"
   ]
  },
  {
   "cell_type": "markdown",
   "metadata": {},
   "source": [
    "- Importando a base de dados"
   ]
  },
  {
   "cell_type": "code",
   "execution_count": 6,
   "metadata": {
    "scrolled": true
   },
   "outputs": [],
   "source": [
    "tab = pd.read_excel(\"Produtos.xlsx\")"
   ]
  },
  {
   "cell_type": "markdown",
   "metadata": {},
   "source": [
    "#Atualizar dados"
   ]
  },
  {
   "cell_type": "code",
   "execution_count": 7,
   "metadata": {},
   "outputs": [],
   "source": [
    "\n",
    "tab.loc[tab[\"Moeda\"] == \"Dólar\",\"Cotação\"] = float(usd)\n",
    "tab.loc[tab[\"Moeda\"] == \"Euro\",\"Cotação\"] = float(eur)\n",
    "tab.loc[tab[\"Moeda\"] == \"Ourp\",\"Cotação\"] = float(gold)"
   ]
  },
  {
   "cell_type": "code",
   "execution_count": 8,
   "metadata": {},
   "outputs": [],
   "source": [
    "\n",
    "tab[\"Preço de Compra\"] = tab[\"Cotação\"]*tab[\"Preço Original\"]"
   ]
  },
  {
   "cell_type": "code",
   "execution_count": 9,
   "metadata": {},
   "outputs": [],
   "source": [
    "tab[\"Preço de Venda\"] = tab[\"Margem\"]*tab[\"Preço de Compra\"]"
   ]
  },
  {
   "cell_type": "code",
   "execution_count": 10,
   "metadata": {},
   "outputs": [
    {
     "data": {
      "text/html": [
       "<div>\n",
       "<style scoped>\n",
       "    .dataframe tbody tr th:only-of-type {\n",
       "        vertical-align: middle;\n",
       "    }\n",
       "\n",
       "    .dataframe tbody tr th {\n",
       "        vertical-align: top;\n",
       "    }\n",
       "\n",
       "    .dataframe thead th {\n",
       "        text-align: right;\n",
       "    }\n",
       "</style>\n",
       "<table border=\"1\" class=\"dataframe\">\n",
       "  <thead>\n",
       "    <tr style=\"text-align: right;\">\n",
       "      <th></th>\n",
       "      <th>Produtos</th>\n",
       "      <th>Preço Original</th>\n",
       "      <th>Moeda</th>\n",
       "      <th>Cotação</th>\n",
       "      <th>Preço de Compra</th>\n",
       "      <th>Margem</th>\n",
       "      <th>Preço de Venda</th>\n",
       "    </tr>\n",
       "  </thead>\n",
       "  <tbody>\n",
       "    <tr>\n",
       "      <th>0</th>\n",
       "      <td>Câmera Canon</td>\n",
       "      <td>999.99</td>\n",
       "      <td>Dólar</td>\n",
       "      <td>5.084700</td>\n",
       "      <td>5084.649153</td>\n",
       "      <td>1.40</td>\n",
       "      <td>7118.508814</td>\n",
       "    </tr>\n",
       "    <tr>\n",
       "      <th>1</th>\n",
       "      <td>Carro Renault</td>\n",
       "      <td>4500.00</td>\n",
       "      <td>Euro</td>\n",
       "      <td>5.503934</td>\n",
       "      <td>24767.700818</td>\n",
       "      <td>2.00</td>\n",
       "      <td>49535.401635</td>\n",
       "    </tr>\n",
       "    <tr>\n",
       "      <th>2</th>\n",
       "      <td>Notebook Dell</td>\n",
       "      <td>899.99</td>\n",
       "      <td>Dólar</td>\n",
       "      <td>5.084700</td>\n",
       "      <td>4576.179153</td>\n",
       "      <td>1.70</td>\n",
       "      <td>7779.504560</td>\n",
       "    </tr>\n",
       "    <tr>\n",
       "      <th>3</th>\n",
       "      <td>IPhone</td>\n",
       "      <td>799.00</td>\n",
       "      <td>Dólar</td>\n",
       "      <td>5.084700</td>\n",
       "      <td>4062.675300</td>\n",
       "      <td>1.70</td>\n",
       "      <td>6906.548010</td>\n",
       "    </tr>\n",
       "    <tr>\n",
       "      <th>4</th>\n",
       "      <td>Carro Fiat</td>\n",
       "      <td>3000.00</td>\n",
       "      <td>Euro</td>\n",
       "      <td>5.503934</td>\n",
       "      <td>16511.800545</td>\n",
       "      <td>1.90</td>\n",
       "      <td>31372.421035</td>\n",
       "    </tr>\n",
       "    <tr>\n",
       "      <th>5</th>\n",
       "      <td>Celular Xiaomi</td>\n",
       "      <td>480.48</td>\n",
       "      <td>Dólar</td>\n",
       "      <td>5.084700</td>\n",
       "      <td>2443.096656</td>\n",
       "      <td>2.00</td>\n",
       "      <td>4886.193312</td>\n",
       "    </tr>\n",
       "    <tr>\n",
       "      <th>6</th>\n",
       "      <td>Joia 20g</td>\n",
       "      <td>20.00</td>\n",
       "      <td>Ouro</td>\n",
       "      <td>350.000000</td>\n",
       "      <td>7000.000000</td>\n",
       "      <td>1.15</td>\n",
       "      <td>8050.000000</td>\n",
       "    </tr>\n",
       "  </tbody>\n",
       "</table>\n",
       "</div>"
      ],
      "text/plain": [
       "         Produtos  Preço Original  Moeda     Cotação  Preço de Compra  Margem  \\\n",
       "0    Câmera Canon          999.99  Dólar    5.084700      5084.649153    1.40   \n",
       "1   Carro Renault         4500.00   Euro    5.503934     24767.700818    2.00   \n",
       "2   Notebook Dell          899.99  Dólar    5.084700      4576.179153    1.70   \n",
       "3          IPhone          799.00  Dólar    5.084700      4062.675300    1.70   \n",
       "4      Carro Fiat         3000.00   Euro    5.503934     16511.800545    1.90   \n",
       "5  Celular Xiaomi          480.48  Dólar    5.084700      2443.096656    2.00   \n",
       "6        Joia 20g           20.00   Ouro  350.000000      7000.000000    1.15   \n",
       "\n",
       "   Preço de Venda  \n",
       "0     7118.508814  \n",
       "1    49535.401635  \n",
       "2     7779.504560  \n",
       "3     6906.548010  \n",
       "4    31372.421035  \n",
       "5     4886.193312  \n",
       "6     8050.000000  "
      ]
     },
     "metadata": {},
     "output_type": "display_data"
    }
   ],
   "source": [
    "display(tab)"
   ]
  },
  {
   "cell_type": "code",
   "execution_count": null,
   "metadata": {},
   "outputs": [],
   "source": []
  },
  {
   "cell_type": "markdown",
   "metadata": {},
   "source": [
    "### Agora vamos exportar a nova base de preços atualizada"
   ]
  },
  {
   "cell_type": "code",
   "execution_count": 11,
   "metadata": {},
   "outputs": [],
   "source": [
    "tab.to_excel(\"cotacao.xlsx\", index=False)"
   ]
  }
 ],
 "metadata": {
  "kernelspec": {
   "display_name": "Python 3 (ipykernel)",
   "language": "python",
   "name": "python3"
  },
  "language_info": {
   "codemirror_mode": {
    "name": "ipython",
    "version": 3
   },
   "file_extension": ".py",
   "mimetype": "text/x-python",
   "name": "python",
   "nbconvert_exporter": "python",
   "pygments_lexer": "ipython3",
   "version": "3.9.12"
  }
 },
 "nbformat": 4,
 "nbformat_minor": 4
}
